{
 "cells": [
  {
   "cell_type": "code",
   "execution_count": null,
   "metadata": {},
   "outputs": [],
   "source": [
    "import pandas as pd\n",
    "\n",
    "file = 'flightlogs/flightdiary_2024_01_04_06_56.csv'\n",
    "df = pd.read_csv(file)\n",
    "\n",
    "of_csv = 'flightlogs/openflights-backup-2023-10-10.csv'\n",
    "df_of = pd.read_csv(of_csv)\n",
    "\n",
    "airline_codes = pd.read_excel('flightlogs/Bansard-airlines-codes-IATA-ICAO.xlsx')\n",
    "airports = pd.read_csv('data/airports.csv')\n",
    "df.head()"
   ]
  },
  {
   "cell_type": "code",
   "execution_count": null,
   "metadata": {},
   "outputs": [],
   "source": [
    "no_code_list = df[~df['Flight number'].isna() & df['Flight number'].str.isnumeric()]\n",
    "no_code_list"
   ]
  },
  {
   "cell_type": "code",
   "execution_count": null,
   "metadata": {},
   "outputs": [],
   "source": [
    "aircraft_id = df[['Aircraft', 'Aircraft_id']].drop_duplicates()\n",
    "aircraft_id['Short']=  aircraft_id['Aircraft'].str.extract(r'\\((.+)\\)')\n",
    "aircraft_id.dropna(inplace=True)\n",
    "display(aircraft_id)\n",
    "aircraft_id.to_csv('aircraft_id.csv', index=False)"
   ]
  },
  {
   "cell_type": "code",
   "execution_count": null,
   "metadata": {},
   "outputs": [],
   "source": [
    "# Prepare airline id list\n",
    "airline_id = df[['Airline', 'Airline_id']].drop_duplicates()\n",
    "airline_id['two_letter'] = airline_id['Airline'].str.extract(r'\\((.+)/')\n",
    "airline_id['three_letter'] = airline_id['Airline'].str.extract(r'/(.+)\\)')\n",
    "display(airline_id)\n",
    "airline_id.to_csv('airline_id.csv', index=False)"
   ]
  },
  {
   "cell_type": "code",
   "execution_count": null,
   "metadata": {},
   "outputs": [],
   "source": [
    "\n",
    "airline_id_eq_0 = df.loc[(~df.index.isin(no_code_list.index)) & (df['Airline_id'] == 0)]\n",
    "airline_id_eq_0['airline_code'] = airline_id_eq_0['Flight number'].str.extract(r'(^\\w{2})')\n",
    "airline_id_eq_0['Airline_id'] = airline_id_eq_0['airline_code'].map(airline_code_mapping)\n",
    "display(airline_id_eq_0)\n"
   ]
  },
  {
   "cell_type": "code",
   "execution_count": null,
   "metadata": {},
   "outputs": [],
   "source": [
    "df.columns"
   ]
  },
  {
   "cell_type": "code",
   "execution_count": null,
   "metadata": {},
   "outputs": [],
   "source": [
    "\n",
    "def export_csv(df, filename):\n",
    "    columns = ['Date', 'Flight number', 'From', 'To', 'Dep time', 'Arr time',\n",
    "       'Duration', 'Airline', 'Aircraft', 'Registration', 'Seat number',\n",
    "       'Seat type', 'Flight class', 'Flight reason', 'Note', 'Dep_id',\n",
    "       'Arr_id', 'Airline_id', 'Aircraft_id']"
   ]
  },
  {
   "cell_type": "code",
   "execution_count": null,
   "metadata": {},
   "outputs": [],
   "source": [
    "airline_code_mapping = airline_id[['two_letter', 'Airline_id']].set_index('two_letter')['Airline_id'].to_dict()"
   ]
  }
 ],
 "metadata": {
  "kernelspec": {
   "display_name": "Python 3",
   "language": "python",
   "name": "python3"
  },
  "language_info": {
   "codemirror_mode": {
    "name": "ipython",
    "version": 3
   },
   "file_extension": ".py",
   "mimetype": "text/x-python",
   "name": "python",
   "nbconvert_exporter": "python",
   "pygments_lexer": "ipython3",
   "version": "3.10.1"
  }
 },
 "nbformat": 4,
 "nbformat_minor": 2
}
