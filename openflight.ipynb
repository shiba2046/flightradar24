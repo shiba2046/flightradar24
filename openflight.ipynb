{
 "cells": [
  {
   "cell_type": "code",
   "execution_count": null,
   "metadata": {},
   "outputs": [],
   "source": [
    "import pandas as pd\n",
    "import numpy as np\n",
    "# from pytz import timezone\n",
    "from datetime import datetime as dt\n",
    "from datetime import timedelta\n",
    "from typing import Optional\n",
    "import pendulum\n",
    "\n",
    "airline_id_mapping = pd.read_csv('data/airline_id.csv').set_index('two_letter')\n",
    "# display(airline_id_mapping)\n",
    "airport_timezone = pd.read_csv('data/airports.csv').set_index('code')['time_zone_id']\n",
    "aircraft_id = pd.read_csv('data/aircraft_id.csv')\n",
    "\n",
    "\n",
    "df = pd.read_csv('flightlogs/openflights-backup-2023-10-10.csv', usecols=[\n",
    "    'Date',\n",
    "    'From',\n",
    "    'To',\n",
    "    'Flight_Number',\n",
    "    'Airline',\n",
    "    'Duration', \n",
    "    'Seat', 'Seat_Type', 'Class', 'Reason', 'Plane',\n",
    "       'Registration', 'Note', ], dtype = {\n",
    "           'Flight_Number': 'str'\n",
    "       },\n",
    "       parse_dates=['Date', 'Duration']\n",
    "       ,encoding='utf-8')\n",
    "# df['Dep time'] = pd.to_datetime(df['Date']).dt.time\n",
    "df['Dep time'] = df['Date'].dt.time\n",
    "df['Duration'] = df['Duration'].dt.time\n",
    "df['Interval'] = df['Duration'].map(lambda x: timedelta(hours=x.hour, minutes=x.minute, seconds=x.second))\n",
    "df['Date'] = df['Date'].dt.date\n",
    "\n",
    "# df.head()\n",
    "df\n"
   ]
  },
  {
   "cell_type": "code",
   "execution_count": null,
   "metadata": {},
   "outputs": [],
   "source": [
    "plane_mapping= {\n",
    "    'Embraer (ERJ) 190': 'Embraer ERJ-190', \n",
    "    'Embraer (ERJ) 195': 'Embraer ERJ-195', \n",
    "    'BAe 146': 'British Aerospace BAe-146'\n",
    "}\n",
    "\n",
    "df['Aircraft'] = df['Plane'].map(lambda x: plane_mapping.get(x, x))\n",
    "df"
   ]
  },
  {
   "cell_type": "code",
   "execution_count": null,
   "metadata": {},
   "outputs": [],
   "source": [
    "airfract_list = pd.read_json('data/aircraft.json').drop_duplicates()\n",
    "# airfract_list\n",
    "df['Aircraft_id']=df['Aircraft'].map(lambda x: airfract_list.set_index('name')['id'].get(x))\n",
    "df[df['Aircraft_id'].isnull()]['Plane'].drop_duplicates().to_list()"
   ]
  },
  {
   "cell_type": "code",
   "execution_count": null,
   "metadata": {},
   "outputs": [],
   "source": [
    "df.columns"
   ]
  },
  {
   "cell_type": "code",
   "execution_count": null,
   "metadata": {},
   "outputs": [],
   "source": [
    "airline_codes = pd.read_excel('data/Bansard-airlines-codes-IATA-ICAO.xlsx').set_index('Airline Name') #['IATA Designator']\n",
    "airline_codes.get('IATA Designator', 'Aer Lingus')"
   ]
  },
  {
   "cell_type": "code",
   "execution_count": null,
   "metadata": {},
   "outputs": [],
   "source": [
    "aircraft_id"
   ]
  },
  {
   "cell_type": "code",
   "execution_count": null,
   "metadata": {},
   "outputs": [],
   "source": [
    "airline = df['Airline']\n",
    "df['Airline_code'] = airline.map(lambda x: airline_codes.get('IATA Designator').get(x))\n",
    "airline_error_list = df.loc[df['Airline_code'].isna(), 'Airline']\n",
    "\n",
    "\n",
    "missing_airline_mapping = {\n",
    "    'TAM Brazilian Airlines' : 'JJ',\n",
    "    'AZUL': 'AD',\n",
    "    'Copa Airlines': 'CM',\n",
    "    'Star Peru (2I)': '2I',\n",
    "    'Cubana de Aviación' : 'CU',\n",
    "    'JetBlue Airways': 'B6',\n",
    "    'Jetstar Airways': 'JQ',\n",
    "    'Tiger Airways Australia': 'TT',\n",
    "    'Singapore Airlines': 'SQ',\n",
    "    'KLM Royal Dutch Airlines': 'KL'\n",
    "}\n",
    "airline_error_list = df.loc[df['Airline_code'].isna(), 'Airline'] #.drop_duplicates()\n",
    "df.loc[airline_error_list.index, 'Airline_code'] = df.loc[airline_error_list.index, 'Airline'].map(lambda x: missing_airline_mapping.get(x))\n",
    "df['Flight number'] = df['Airline_code'] + df['Flight_Number']\n",
    "df['Airline_id'] = df['Airline_code'].map(lambda x: airline_id_mapping['Airline_id'].get(x)).fillna(0).astype(int)\n",
    "df['Airline'] = df['Airline_code'].map(lambda x: airline_id_mapping['Airline'].get(x))\n",
    "\n"
   ]
  },
  {
   "cell_type": "code",
   "execution_count": null,
   "metadata": {},
   "outputs": [],
   "source": [
    "# Fill in arr time\n",
    "def calc_arr_time(date: str, from_airport: str, dest_airport:str, dep_time: str, duration):\n",
    "    from_tz = airport_timezone.get(from_airport)\n",
    "    dest_tz = airport_timezone.get(dest_airport) \n",
    "    from_time = pendulum.parse(date.strftime('%Y-%m-%d')  + ' ' + str(dep_time), tz = from_tz)\n",
    "    arr_time = from_time + duration\n",
    "    arr_time_tz = arr_time.in_tz(tz=dest_tz)\n",
    "\n",
    "    return arr_time_tz.strftime(\"%H:%M:%S\")\n",
    "\n",
    "df['Arr time'] = df.apply(lambda x: calc_arr_time(x.Date, x.From, x.To, x['Dep time'], x['Interval']), axis=1)\n",
    "df"
   ]
  },
  {
   "cell_type": "code",
   "execution_count": null,
   "metadata": {},
   "outputs": [],
   "source": [
    "\n",
    "df['Flight class'] = 1\n",
    "df['Flight reason'] = 1\n",
    "\n",
    "\n",
    "export_columns = ['Date', 'Flight number', 'From', 'To', 'Dep time', 'Arr time', 'Note',\n",
    "       'Duration', 'Aircraft', 'Aircraft_id', 'Flight class', 'Flight reason', 'Airline', 'Airline_id']\n",
    "\n",
    "filename = f\"upload/openflight-{dt.now().strftime('%Y-%m-%d')}.csv\"\n",
    "df[export_columns].to_csv(filename, index=False, encoding='utf-8-sig')\n",
    "\n"
   ]
  },
  {
   "cell_type": "markdown",
   "metadata": {},
   "source": []
  }
 ],
 "metadata": {
  "kernelspec": {
   "display_name": "venv",
   "language": "python",
   "name": "python3"
  },
  "language_info": {
   "codemirror_mode": {
    "name": "ipython",
    "version": 3
   },
   "file_extension": ".py",
   "mimetype": "text/x-python",
   "name": "python",
   "nbconvert_exporter": "python",
   "pygments_lexer": "ipython3",
   "version": "3.10.1"
  }
 },
 "nbformat": 4,
 "nbformat_minor": 2
}
