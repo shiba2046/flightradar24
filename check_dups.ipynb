{
 "cells": [
  {
   "cell_type": "code",
   "execution_count": null,
   "metadata": {},
   "outputs": [],
   "source": [
    "import pandas as pd\n",
    "from pathlib import Path\n",
    "\n",
    "\n",
    "lastest = list(Path('flightlogs/').glob('flightdiary*'))[-1]\n",
    "print(lastest)\n",
    "\n",
    "df=  pd.read_csv(lastest)\n",
    "display(df.head())"
   ]
  },
  {
   "cell_type": "code",
   "execution_count": null,
   "metadata": {},
   "outputs": [],
   "source": [
    "# 检查同一天同一出发地到达地航班\n",
    "dups = df[df.duplicated(subset=['Date', 'From', 'To'])]\n",
    "dups.sort_values('Date', ascending=False)\n"
   ]
  },
  {
   "cell_type": "code",
   "execution_count": null,
   "metadata": {},
   "outputs": [],
   "source": [
    "df[df['From'] == df['To']]"
   ]
  },
  {
   "cell_type": "code",
   "execution_count": null,
   "metadata": {},
   "outputs": [],
   "source": [
    "airport = 'GGW'\n",
    "if not airport:\n",
    "    airport = input('Enter an airport code: ')\n",
    "\n",
    "result = df[(df['From'].str.contains(airport)) | (df['To'].str.contains(airport))].sort_values('Date', ascending=False)\n",
    "display(result)\n",
    "print(len(result))\n"
   ]
  },
  {
   "cell_type": "code",
   "execution_count": null,
   "metadata": {},
   "outputs": [],
   "source": [
    "date='2022-01-25'\n",
    "df[df['Date'] == date]"
   ]
  }
 ],
 "metadata": {
  "kernelspec": {
   "display_name": "venv",
   "language": "python",
   "name": "python3"
  },
  "language_info": {
   "codemirror_mode": {
    "name": "ipython",
    "version": 3
   },
   "file_extension": ".py",
   "mimetype": "text/x-python",
   "name": "python",
   "nbconvert_exporter": "python",
   "pygments_lexer": "ipython3",
   "version": "3.10.1"
  }
 },
 "nbformat": 4,
 "nbformat_minor": 2
}
