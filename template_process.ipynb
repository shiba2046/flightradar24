{
 "cells": [
  {
   "cell_type": "code",
   "execution_count": null,
   "metadata": {},
   "outputs": [],
   "source": [
    "import pandas as pd\n",
    "import numpy as np\n",
    "# from pytz import timezone\n",
    "from datetime import datetime as dt\n",
    "from typing import Optional\n",
    "import pendulum\n",
    "\n",
    "airline_id_mapping = pd.read_csv('data/airline_id.csv').set_index('two_letter')\n",
    "# display(airline_id_mapping)\n",
    "airport_timezone = pd.read_csv('data/airports.csv').set_index('code')['time_zone_id']\n",
    "aircraft_id = pd.read_json('data/aircraft.json').drop_duplicates().set_index('icao')\n",
    "# display(airport_timezone)\n",
    "    "
   ]
  },
  {
   "cell_type": "code",
   "execution_count": null,
   "metadata": {},
   "outputs": [],
   "source": [
    "\n",
    "\n",
    "file = './upload/fill_in_template.xlsx'\n",
    "df = pd.read_excel(file, sheet_name='ToUpload', \n",
    "    dtype={\n",
    "    # \"Date\": np.datetime64,\n",
    "    \"Flight number\": str,\n",
    "})\n",
    "\n",
    "for column in ['Flight number', 'From', 'To', 'Aircraft', 'Registration', 'Seat number']:\n",
    "    df[column] = df[column].apply(str).apply(str.upper)\n",
    "\n",
    "for column in ['Flight class', 'Flight reason']:\n",
    "    df.loc[(df[column].isna()) |(df[column].isna() == 0), column] = 1\n",
    "display(df.head())\n"
   ]
  },
  {
   "cell_type": "code",
   "execution_count": null,
   "metadata": {},
   "outputs": [],
   "source": [
    "# Fill in duration\n",
    "def calc_duration(date: str, from_airport: str, dest_airport:str, dep_time: str, arr_time):\n",
    "    from_tz = airport_timezone.get(from_airport)\n",
    "    dest_tz = airport_timezone.get(dest_airport) \n",
    "    from_time = pendulum.parse(date.strftime('%Y-%m-%d')  + ' ' + str(dep_time), tz = from_tz)\n",
    "    arr_time = pendulum.parse(date.strftime('%Y-%m-%d') + ' ' + str(arr_time), tz = dest_tz)\n",
    "    time_diff = (arr_time - from_time).in_minutes()\n",
    "    hours, minutes  = divmod(time_diff, 60)\n",
    "    hours = hours if hours > 0 else hours + 24\n",
    "    duration = f'{hours:02d}:{minutes:02d}:00'\n",
    "    return duration\n",
    "\n",
    "no_duration = df[df['Duration'].isnull()]\n",
    "df['Duration'] = df.apply(lambda x: calc_duration(x.Date, x.From, x.To, x['Dep time'], x['Arr time']), axis=1)\n",
    "# df"
   ]
  },
  {
   "cell_type": "code",
   "execution_count": null,
   "metadata": {},
   "outputs": [],
   "source": [
    "\n",
    "df['Aircraft_id'] = df['Aircraft'].map(lambda x: aircraft_id['id'].get(x))\n",
    "df['Aircraft_name'] = df['Aircraft'].map(lambda x: aircraft_id['label'].get(x))\n",
    "# if na get by full name\n",
    "no_aircraft = df['Aircraft_id'].isna()\n",
    "df.loc[no_aircraft, 'Aircraft_id'] = df.loc[no_aircraft, 'Aircraft'].map(lambda x: aircraft_id.set_index('name')['id'].get(x))\n",
    "df[no_aircraft]\n"
   ]
  },
  {
   "cell_type": "code",
   "execution_count": null,
   "metadata": {},
   "outputs": [],
   "source": [
    "aircraft_id.set_index('name')"
   ]
  },
  {
   "cell_type": "code",
   "execution_count": null,
   "metadata": {},
   "outputs": [],
   "source": [
    "# fill in airline id\n",
    "# airline_codes = df['Flight number'].str.extract(r'(\\D{2})')[0]\n",
    "airline_codes = df['Flight number'].str.slice(0,2)\n",
    "\n",
    "df['Airline_id'] = airline_codes.map(lambda x: airline_id_mapping.loc[x, 'Airline_id'])\n",
    "df['Airline'] = airline_codes.map(lambda x: airline_id_mapping.loc[x, 'Airline'])\n",
    "# df['Airline_id'] = airline_codes .map(lambda x: airline_id_mapping.get(x))\n",
    "\n",
    "print(' airline id')\n",
    "df[df['Airline_id'].isna()]"
   ]
  },
  {
   "cell_type": "code",
   "execution_count": null,
   "metadata": {},
   "outputs": [],
   "source": [
    "display(df)\n",
    "filename = f\"upload/{dt.now().strftime('%Y-%m-%d-%H-%M')}.csv\"\n",
    "print(f'导出文件 {filename}')\n",
    "# export_columns = [\n",
    "#     'Date',\n",
    "#     'Flight number',\n",
    "#     'From', \n",
    "#     'To',\n",
    "#     'Dep time',\n",
    "    \n",
    "# ]\n",
    "# if input(f'Export to {filename}?') == 'y': \n",
    "df.to_csv(filename, index=False, encoding='utf-8-sig')"
   ]
  },
  {
   "cell_type": "code",
   "execution_count": null,
   "metadata": {},
   "outputs": [],
   "source": [
    "df.columns"
   ]
  }
 ],
 "metadata": {
  "kernelspec": {
   "display_name": "venv",
   "language": "python",
   "name": "python3"
  },
  "language_info": {
   "codemirror_mode": {
    "name": "ipython",
    "version": 3
   },
   "file_extension": ".py",
   "mimetype": "text/x-python",
   "name": "python",
   "nbconvert_exporter": "python",
   "pygments_lexer": "ipython3",
   "version": "3.10.1"
  }
 },
 "nbformat": 4,
 "nbformat_minor": 2
}
